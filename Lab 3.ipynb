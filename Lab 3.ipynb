{
 "cells": [
  {
   "cell_type": "code",
   "execution_count": 1,
   "metadata": {},
   "outputs": [
    {
     "name": "stdout",
     "output_type": "stream",
     "text": [
      "          X          Y\n",
      "0  8.454814  21.830628\n",
      "1  6.805099  17.347750\n",
      "2  8.666747  20.409634\n",
      "3  7.565441  20.705057\n",
      "4  3.654126  10.623932\n"
     ]
    }
   ],
   "source": [
    "import numpy as np\n",
    "import pandas as pd\n",
    "\n",
    "# Генерація випадкових даних для регресії (наприклад, Y = 2X + 3 + шум)\n",
    "X = np.random.rand(100, 1) * 10  # 100 випадкових значень X\n",
    "noise = np.random.randn(100, 1)  # шум\n",
    "Y = 2 * X + 3 + noise  # відповідні значення Y\n",
    "\n",
    "# Створення DataFrame\n",
    "data = pd.DataFrame({'X': X.flatten(), 'Y': Y.flatten()})\n",
    "\n",
    "# Перегляд перших 5 записів\n",
    "print(data.head())\n"
   ]
  },
  {
   "cell_type": "code",
   "execution_count": 2,
   "metadata": {},
   "outputs": [
    {
     "name": "stdout",
     "output_type": "stream",
     "text": [
      "   feature_1  feature_2  feature_3  feature_4  feature_5  target\n",
      "0   0.374540   0.950714   0.731994   0.598658   0.156019       0\n",
      "1   0.155995   0.058084   0.866176   0.601115   0.708073       1\n",
      "2   0.020584   0.969910   0.832443   0.212339   0.181825       0\n",
      "3   0.183405   0.304242   0.524756   0.431945   0.291229       1\n",
      "4   0.611853   0.139494   0.292145   0.366362   0.456070       1\n"
     ]
    }
   ],
   "source": [
    "import pandas as pd\n",
    "\n",
    "# Завантаження набору даних з Kaggle\n",
    "df = pd.read_csv('CarPrice_Assignment.csv')\n",
    "\n",
    "# Перегляд перших 5 записів\n",
    "print(df.head())\n"
   ]
  },
  {
   "cell_type": "code",
   "execution_count": 3,
   "metadata": {},
   "outputs": [
    {
     "name": "stdout",
     "output_type": "stream",
     "text": [
      "Mean Squared Error: 0.8096475044633111\n",
      "R-squared: 0.9704669018984122\n"
     ]
    }
   ],
   "source": [
    "from sklearn.model_selection import train_test_split\n",
    "from sklearn.linear_model import LinearRegression\n",
    "from sklearn.metrics import mean_squared_error, r2_score\n",
    "\n",
    "# Розділення на тренувальну та тестову вибірки\n",
    "X_train, X_test, Y_train, Y_test = train_test_split(X, Y, test_size=0.2, random_state=42)\n",
    "\n",
    "# Створення та тренування моделі\n",
    "model = LinearRegression()\n",
    "model.fit(X_train, Y_train)\n",
    "\n",
    "# Прогнозування на тестових даних\n",
    "Y_pred = model.predict(X_test)\n",
    "\n",
    "# Оцінка моделі\n",
    "mse = mean_squared_error(Y_test, Y_pred)\n",
    "r2 = r2_score(Y_test, Y_pred)\n",
    "\n",
    "print(f\"Mean Squared Error: {mse}\")\n",
    "print(f\"R-squared: {r2}\")\n"
   ]
  },
  {
   "cell_type": "code",
   "execution_count": 4,
   "metadata": {},
   "outputs": [
    {
     "name": "stdout",
     "output_type": "stream",
     "text": [
      "         X         Y\n",
      "0  0.00000  4.728815\n",
      "1  0.10101  5.209890\n",
      "2  0.20202  4.437288\n",
      "3  0.30303  5.931545\n",
      "4  0.40404  5.805691\n"
     ]
    }
   ],
   "source": [
    "import numpy as np\n",
    "import pandas as pd\n",
    "\n",
    "# Генерація даних для регресії вручну\n",
    "X = np.linspace(0, 10, 100)\n",
    "Y = 3 * X + 5 + np.random.randn(100)  # лінійна функція з шумом\n",
    "\n",
    "# Створення DataFrame\n",
    "data = pd.DataFrame({'X': X, 'Y': Y})\n",
    "\n",
    "# Збереження у CSV\n",
    "data.to_csv('generated_data.csv', index=False)\n",
    "\n",
    "# Перегляд перших 5 записів\n",
    "print(data.head())\n"
   ]
  }
 ],
 "metadata": {
  "kernelspec": {
   "display_name": "Python 3",
   "language": "python",
   "name": "python3"
  },
  "language_info": {
   "codemirror_mode": {
    "name": "ipython",
    "version": 3
   },
   "file_extension": ".py",
   "mimetype": "text/x-python",
   "name": "python",
   "nbconvert_exporter": "python",
   "pygments_lexer": "ipython3",
   "version": "3.8.8rc1"
  }
 },
 "nbformat": 4,
 "nbformat_minor": 2
}
