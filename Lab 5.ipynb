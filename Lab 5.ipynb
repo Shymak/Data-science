{
 "cells": [
  {
   "cell_type": "code",
   "execution_count": 1,
   "metadata": {},
   "outputs": [
    {
     "name": "stdout",
     "output_type": "stream",
     "text": [
      "Згенерований набір даних успішно створений і збережений!\n"
     ]
    }
   ],
   "source": [
    "from sklearn.datasets import make_classification\n",
    "import pandas as pd\n",
    "\n",
    "# Генерація набору даних для класифікації\n",
    "X, y = make_classification(n_samples=1000,    # Кількість прикладів\n",
    "                           n_features=20,     # Кількість ознак\n",
    "                           n_informative=10,  # Інформативні ознаки\n",
    "                           n_classes=2,       # Кількість класів\n",
    "                           random_state=42)\n",
    "\n",
    "# Перетворення в DataFrame\n",
    "df = pd.DataFrame(X, columns=[f'feature_{i}' for i in range(1, 21)])\n",
    "df['target'] = y\n",
    "\n",
    "# Збереження набору даних\n",
    "df.to_csv('generated_classification_data.csv', index=False)\n",
    "\n",
    "print(\"Згенерований набір даних успішно створений і збережений!\")\n"
   ]
  },
  {
   "cell_type": "code",
   "execution_count": 2,
   "metadata": {},
   "outputs": [
    {
     "name": "stdout",
     "output_type": "stream",
     "text": [
      "   feature_1  feature_2  feature_3  feature_4  feature_5  target\n",
      "0   0.374540   0.950714   0.731994   0.598658   0.156019       0\n",
      "1   0.155995   0.058084   0.866176   0.601115   0.708073       1\n",
      "2   0.020584   0.969910   0.832443   0.212339   0.181825       0\n",
      "3   0.183405   0.304242   0.524756   0.431945   0.291229       1\n",
      "4   0.611853   0.139494   0.292145   0.366362   0.456070       1\n",
      "\n",
      "Опис даних:\n",
      "          feature_1    feature_2    feature_3    feature_4    feature_5  \\\n",
      "count  1000.000000  1000.000000  1000.000000  1000.000000  1000.000000   \n",
      "mean      0.496372     0.500085     0.489858     0.497802     0.500044   \n",
      "std       0.290317     0.297097     0.285003     0.287006     0.289057   \n",
      "min       0.000227     0.000031     0.000012     0.000943     0.000135   \n",
      "25%       0.249803     0.233539     0.237326     0.257741     0.241764   \n",
      "50%       0.485076     0.508614     0.500180     0.493386     0.511011   \n",
      "75%       0.752478     0.761016     0.731520     0.745849     0.738501   \n",
      "max       0.996158     0.999718     0.998893     0.996334     0.999558   \n",
      "\n",
      "            target  \n",
      "count  1000.000000  \n",
      "mean      0.511000  \n",
      "std       0.500129  \n",
      "min       0.000000  \n",
      "25%       0.000000  \n",
      "50%       1.000000  \n",
      "75%       1.000000  \n",
      "max       1.000000  \n",
      "\n",
      "Перевірка пропущених значень:\n",
      " feature_1    0\n",
      "feature_2    0\n",
      "feature_3    0\n",
      "feature_4    0\n",
      "feature_5    0\n",
      "target       0\n",
      "dtype: int64\n"
     ]
    }
   ],
   "source": [
    "import pandas as pd\n",
    "\n",
    "# Завантаження набору даних з локального файлу\n",
    "df_kaggle = pd.read_csv('CarPrice_Assignment.csv')\n",
    "\n",
    "# Ознайомлення з даними\n",
    "print(df_kaggle.head())\n",
    "print(\"\\nОпис даних:\\n\", df_kaggle.describe())\n",
    "print(\"\\nПеревірка пропущених значень:\\n\", df_kaggle.isnull().sum())\n"
   ]
  },
  {
   "cell_type": "code",
   "execution_count": 3,
   "metadata": {},
   "outputs": [
    {
     "name": "stdout",
     "output_type": "stream",
     "text": [
      "Набір даних згенеровано і збережено!\n"
     ]
    }
   ],
   "source": [
    "import numpy as np\n",
    "import pandas as pd\n",
    "\n",
    "# Налаштування параметрів генерації\n",
    "np.random.seed(42)\n",
    "n_samples = 1000\n",
    "n_features = 5\n",
    "\n",
    "# Генерація ознак\n",
    "X = np.random.rand(n_samples, n_features)\n",
    "\n",
    "# Генерація міток\n",
    "y = np.random.choice([0, 1], size=n_samples)\n",
    "\n",
    "# Створення DataFrame\n",
    "df_generated = pd.DataFrame(X, columns=[f'feature_{i}' for i in range(1, n_features + 1)])\n",
    "df_generated['target'] = y\n",
    "\n",
    "# Збереження набору даних\n",
    "df_generated.to_csv('random_generated_classification_data.csv', index=False)\n",
    "\n",
    "print(\"Набір даних згенеровано і збережено!\")\n"
   ]
  },
  {
   "cell_type": "code",
   "execution_count": 4,
   "metadata": {},
   "outputs": [
    {
     "name": "stdout",
     "output_type": "stream",
     "text": [
      "Accuracy: 0.5450\n"
     ]
    }
   ],
   "source": [
    "from sklearn.model_selection import train_test_split\n",
    "from sklearn.linear_model import LogisticRegression\n",
    "from sklearn.metrics import accuracy_score\n",
    "\n",
    "# Розділення даних на тренувальний і тестовий набори\n",
    "X = df_generated.drop('target', axis=1)\n",
    "y = df_generated['target']\n",
    "X_train, X_test, y_train, y_test = train_test_split(X, y, test_size=0.2, random_state=42)\n",
    "\n",
    "# Навчання моделі логістичної регресії\n",
    "model = LogisticRegression()\n",
    "model.fit(X_train, y_train)\n",
    "\n",
    "# Прогнозування\n",
    "y_pred = model.predict(X_test)\n",
    "\n",
    "# Оцінка точності моделі\n",
    "print(f\"Accuracy: {accuracy_score(y_test, y_pred):.4f}\")\n"
   ]
  }
 ],
 "metadata": {
  "kernelspec": {
   "display_name": "Python 3",
   "language": "python",
   "name": "python3"
  },
  "language_info": {
   "codemirror_mode": {
    "name": "ipython",
    "version": 3
   },
   "file_extension": ".py",
   "mimetype": "text/x-python",
   "name": "python",
   "nbconvert_exporter": "python",
   "pygments_lexer": "ipython3",
   "version": "3.8.8rc1"
  }
 },
 "nbformat": 4,
 "nbformat_minor": 2
}
